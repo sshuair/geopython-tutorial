{
 "cells": [
  {
   "cell_type": "markdown",
   "metadata": {},
   "source": [
    "# ------------------------GDAL---------------------------"
   ]
  },
  {
   "cell_type": "markdown",
   "metadata": {},
   "source": [
    "## 矢量数据"
   ]
  },
  {
   "cell_type": "code",
   "execution_count": 8,
   "metadata": {},
   "outputs": [
    {
     "name": "stdout",
     "output_type": "stream",
     "text": [
      "Opened fiona_test.shp\n",
      "Number of features in fiona_test.shp: 2\n"
     ]
    }
   ],
   "source": [
    "#读取shp文件 获得要素数量\n",
    "import os\n",
    "from osgeo import ogr\n",
    "\n",
    "daShapefile = r\"fiona_test.shp\"\n",
    "\n",
    "driver = ogr.GetDriverByName('ESRI Shapefile')\n",
    "\n",
    "dataSource = driver.Open(daShapefile, 0) # 0 means read-only. 1 means writeable.\n",
    "\n",
    "# Check to see if shapefile is found.\n",
    "if dataSource is None:\n",
    "    print('Could not open %s'%(daShapefile))\n",
    "else:\n",
    "    print ('Opened %s' % (daShapefile))\n",
    "    layer = dataSource.GetLayer()\n",
    "    featureCount = layer.GetFeatureCount()\n",
    "    print(\"Number of features in %s: %d\" % (os.path.basename(daShapefile),featureCount))"
   ]
  },
  {
   "cell_type": "code",
   "execution_count": 2,
   "metadata": {},
   "outputs": [
    {
     "name": "stdout",
     "output_type": "stream",
     "text": [
      "base.administration_township\n",
      "bigdata\n",
      "fangtest\n",
      "fangtest_beijing_sub\n",
      "fangtest_point\n",
      "poi_dis\n",
      "town\n",
      "world_country_point\n",
      "world_country_polygon\n"
     ]
    }
   ],
   "source": [
    "#获得数据库中所有图层\n",
    "from osgeo import ogr\n",
    "\n",
    "databaseServer = \"192.168.65.1\"\n",
    "databaseName = \"geohey\"\n",
    "databaseUser = \"jingcb\"\n",
    "databasePW = \"290504\"\n",
    "\n",
    "\n",
    "connString = \"PG: host=%s dbname=%s user=%s password=%s\" %(databaseServer,databaseName,databaseUser,databasePW)\n",
    "\n",
    "conn = ogr.Open(connString)\n",
    "\n",
    "layerList = []\n",
    "for i in conn:\n",
    "    daLayer = i.GetName()\n",
    "    if not daLayer in layerList:\n",
    "        layerList.append(daLayer)\n",
    "\n",
    "layerList.sort()\n",
    "\n",
    "for j in layerList:\n",
    "    print(j)\n",
    "\n",
    "# Close connection\n",
    "conn = None"
   ]
  },
  {
   "cell_type": "code",
   "execution_count": 3,
   "metadata": {},
   "outputs": [],
   "source": [
    "#获得 数据库图层的要素数量\n",
    "import sys\n",
    "def GetPGLayer( lyr_name ):\n",
    "    conn = ogr.Open(connString)\n",
    "\n",
    "    lyr = conn.GetLayer( lyr_name )\n",
    "    if lyr is None:\n",
    "        print >> sys.stderr, '[ ERROR ]: layer name = \"%s\" could not be found in database \"%s\"' % ( lyr_name, databaseName )\n",
    "        sys.exit( 1 )\n",
    "\n",
    "    featureCount = lyr.GetFeatureCount()\n",
    "    print (\"Number of features in %s: %d\" % ( lyr_name , featureCount ))\n",
    "\n",
    "    # Close connection\n",
    "    conn = None"
   ]
  },
  {
   "cell_type": "code",
   "execution_count": 4,
   "metadata": {},
   "outputs": [
    {
     "name": "stdout",
     "output_type": "stream",
     "text": [
      "Number of features in fangtest: 2305\n"
     ]
    }
   ],
   "source": [
    "GetPGLayer('fangtest')"
   ]
  },
  {
   "cell_type": "code",
   "execution_count": 5,
   "metadata": {},
   "outputs": [
    {
     "name": "stdout",
     "output_type": "stream",
     "text": [
      "POINT (-87.63 41.88)\n",
      "POINT (-94.584 39.101)\n"
     ]
    }
   ],
   "source": [
    "#获取要素的geometry\n",
    "from osgeo import ogr\n",
    "import os\n",
    "\n",
    "shapefile = \"fiona_test.shp\"\n",
    "driver = ogr.GetDriverByName(\"ESRI Shapefile\")\n",
    "dataSource = driver.Open(shapefile, 0)\n",
    "layer = dataSource.GetLayer()\n",
    "\n",
    "for feature in layer:\n",
    "    geom = feature.GetGeometryRef()\n",
    "    print(geom.Centroid().ExportToWkt())"
   ]
  },
  {
   "cell_type": "code",
   "execution_count": 7,
   "metadata": {},
   "outputs": [
    {
     "name": "stdout",
     "output_type": "stream",
     "text": [
      "Chicago\n"
     ]
    }
   ],
   "source": [
    "#属性过滤\n",
    "from osgeo import ogr\n",
    "import os\n",
    "\n",
    "shapefile = \"fiona_test.shp\"\n",
    "driver = ogr.GetDriverByName(\"ESRI Shapefile\")\n",
    "dataSource = driver.Open(shapefile, 0)\n",
    "layer = dataSource.GetLayer()\n",
    "\n",
    "layer.SetAttributeFilter(\"name = 'Chicago'\")\n",
    "\n",
    "for feature in layer:\n",
    "    print (feature.GetField(\"name\"))"
   ]
  },
  {
   "cell_type": "code",
   "execution_count": 8,
   "metadata": {},
   "outputs": [
    {
     "name": "stdout",
     "output_type": "stream",
     "text": [
      "name\n"
     ]
    }
   ],
   "source": [
    "#获取属性名\n",
    "from osgeo import ogr\n",
    "\n",
    "daShapefile = r\"fiona_test.shp\"\n",
    "\n",
    "dataSource = ogr.Open(daShapefile)\n",
    "daLayer = dataSource.GetLayer(0)\n",
    "layerDefinition = daLayer.GetLayerDefn()\n",
    "\n",
    "\n",
    "for i in range(layerDefinition.GetFieldCount()):\n",
    "    print(layerDefinition.GetFieldDefn(i).GetName())"
   ]
  },
  {
   "cell_type": "markdown",
   "metadata": {},
   "source": [
    "## 栅格影像"
   ]
  },
  {
   "cell_type": "code",
   "execution_count": 2,
   "metadata": {},
   "outputs": [
    {
     "name": "stdout",
     "output_type": "stream",
     "text": [
      "{'AREA_OR_POINT': 'Point'}\n"
     ]
    }
   ],
   "source": [
    "#打开数据，获取影像元数据\n",
    "from osgeo import gdal\n",
    "gtif = gdal.Open( \"images/input.tif\" )\n",
    "print(gtif.GetMetadata())"
   ]
  },
  {
   "cell_type": "code",
   "execution_count": 6,
   "metadata": {},
   "outputs": [],
   "source": [
    "# 获取波段信息\n",
    "srcband = gtif.GetRasterBand(1)"
   ]
  },
  {
   "cell_type": "code",
   "execution_count": 10,
   "metadata": {},
   "outputs": [
    {
     "data": {
      "text/plain": [
       "[8896.0, 33262.0, 10320.252106409176, 882.4653425033526]"
      ]
     },
     "execution_count": 10,
     "metadata": {},
     "output_type": "execute_result"
    }
   ],
   "source": [
    "# 统计信息\n",
    "srcband.GetStatistics( True, True )   #最小像素值， 最大， 平均，标准偏差"
   ]
  },
  {
   "cell_type": "code",
   "execution_count": 13,
   "metadata": {},
   "outputs": [
    {
     "name": "stdout",
     "output_type": "stream",
     "text": [
      "[ NO DATA VALUE ] =  0.0\n",
      "[ SCALE ] =  1.0\n",
      "[ UNIT TYPE ] =  \n"
     ]
    }
   ],
   "source": [
    "print(\"[ NO DATA VALUE ] = \", srcband.GetNoDataValue())\n",
    "print( \"[ SCALE ] = \", srcband.GetScale())\n",
    "print( \"[ UNIT TYPE ] = \", srcband.GetUnitType())"
   ]
  },
  {
   "cell_type": "code",
   "execution_count": null,
   "metadata": {},
   "outputs": [],
   "source": [
    "#某一个波段的矢栅转换\n",
    "from osgeo import gdal, ogr\n",
    "import sys\n",
    "# this allows GDAL to throw Python Exceptions\n",
    "gdal.UseExceptions()\n",
    "\n",
    "#\n",
    "#  get raster datasource\n",
    "#\n",
    "src_ds = gdal.Open( \"images/input.tif\" )\n",
    "if src_ds is None:\n",
    "    print('Unable to open %s' % src_filename)\n",
    "    sys.exit(1)\n",
    "\n",
    "try:\n",
    "    srcband = src_ds.GetRasterBand(1)\n",
    "except RuntimeError as e:\n",
    "    # for example, try GetRasterBand(10)\n",
    "    print('Band ( %i ) not found' % 1)\n",
    "    print (e)\n",
    "    sys.exit(1)\n",
    "\n",
    "#\n",
    "#  create output datasource\n",
    "#\n",
    "dst_layername = \"POLYGONIZED_STUFF\"\n",
    "drv = ogr.GetDriverByName(\"ESRI Shapefile\")\n",
    "dst_ds = drv.CreateDataSource( dst_layername + \".shp\" )\n",
    "dst_layer = dst_ds.CreateLayer(dst_layername, srs = None )\n",
    "\n",
    "gdal.Polygonize( srcband, None, dst_layer, -1, [], callback=None )"
   ]
  },
  {
   "cell_type": "markdown",
   "metadata": {},
   "source": [
    "# -------------------------rasterio----------------------------"
   ]
  },
  {
   "cell_type": "code",
   "execution_count": 1,
   "metadata": {},
   "outputs": [],
   "source": [
    "import rasterio"
   ]
  },
  {
   "cell_type": "code",
   "execution_count": null,
   "metadata": {},
   "outputs": [],
   "source": []
  },
  {
   "cell_type": "code",
   "execution_count": 4,
   "metadata": {},
   "outputs": [],
   "source": [
    "#读取tiff文件\n",
    "dataset = rasterio.open('images/input.tif')"
   ]
  },
  {
   "cell_type": "code",
   "execution_count": 5,
   "metadata": {},
   "outputs": [
    {
     "data": {
      "text/plain": [
       "'images/input.tif'"
      ]
     },
     "execution_count": 5,
     "metadata": {},
     "output_type": "execute_result"
    }
   ],
   "source": [
    "dataset.name"
   ]
  },
  {
   "cell_type": "code",
   "execution_count": 6,
   "metadata": {},
   "outputs": [
    {
     "data": {
      "text/plain": [
       "'r'"
      ]
     },
     "execution_count": 6,
     "metadata": {},
     "output_type": "execute_result"
    }
   ],
   "source": [
    "dataset.mode"
   ]
  },
  {
   "cell_type": "code",
   "execution_count": 7,
   "metadata": {},
   "outputs": [
    {
     "data": {
      "text/plain": [
       "False"
      ]
     },
     "execution_count": 7,
     "metadata": {},
     "output_type": "execute_result"
    }
   ],
   "source": [
    "dataset.closed"
   ]
  },
  {
   "cell_type": "code",
   "execution_count": 8,
   "metadata": {},
   "outputs": [
    {
     "data": {
      "text/plain": [
       "1"
      ]
     },
     "execution_count": 8,
     "metadata": {},
     "output_type": "execute_result"
    }
   ],
   "source": [
    "dataset.count"
   ]
  },
  {
   "cell_type": "code",
   "execution_count": 9,
   "metadata": {},
   "outputs": [
    {
     "data": {
      "text/plain": [
       "7751"
      ]
     },
     "execution_count": 9,
     "metadata": {},
     "output_type": "execute_result"
    }
   ],
   "source": [
    "dataset.width"
   ]
  },
  {
   "cell_type": "code",
   "execution_count": 10,
   "metadata": {},
   "outputs": [
    {
     "data": {
      "text/plain": [
       "7881"
      ]
     },
     "execution_count": 10,
     "metadata": {},
     "output_type": "execute_result"
    }
   ],
   "source": [
    "dataset.height"
   ]
  },
  {
   "cell_type": "code",
   "execution_count": 11,
   "metadata": {},
   "outputs": [
    {
     "data": {
      "text/plain": [
       "BoundingBox(left=358185.0, bottom=4346085.0, right=590715.0, top=4582515.0)"
      ]
     },
     "execution_count": 11,
     "metadata": {},
     "output_type": "execute_result"
    }
   ],
   "source": [
    "dataset.bounds"
   ]
  },
  {
   "cell_type": "code",
   "execution_count": null,
   "metadata": {},
   "outputs": [],
   "source": []
  },
  {
   "cell_type": "code",
   "execution_count": 13,
   "metadata": {
    "scrolled": false
   },
   "outputs": [
    {
     "name": "stderr",
     "output_type": "stream",
     "text": [
      "/usr/local/lib/python3.5/dist-packages/IPython/core/interactiveshell.py:2910: FutureWarning: The value of this property will change in version 1.0. Please see https://github.com/mapbox/rasterio/issues/86 for details.\n",
      "  exec(code_obj, self.user_global_ns, self.user_ns)\n"
     ]
    },
    {
     "data": {
      "text/plain": [
       "[358185.0, 30.0, 0.0, 4582515.0, 0.0, -30.0]"
      ]
     },
     "execution_count": 13,
     "metadata": {},
     "output_type": "execute_result"
    }
   ],
   "source": [
    "#仿射变换矩阵\n",
    "dataset.transform"
   ]
  },
  {
   "cell_type": "code",
   "execution_count": 66,
   "metadata": {},
   "outputs": [
    {
     "name": "stderr",
     "output_type": "stream",
     "text": [
      "/usr/local/lib/python3.5/dist-packages/IPython/core/interactiveshell.py:2910: FutureWarning: The value of this property will change in version 1.0. Please see https://github.com/mapbox/rasterio/issues/86 for details.\n",
      "  exec(code_obj, self.user_global_ns, self.user_ns)\n"
     ]
    },
    {
     "data": {
      "text/plain": [
       "array([  358185.,  4582515.])"
      ]
     },
     "execution_count": 66,
     "metadata": {},
     "output_type": "execute_result"
    }
   ],
   "source": [
    "#利用变换矩阵求取某一像素点的地理坐标\n",
    "[1,0,0]@(np.array(dataset.transform).reshape(2,3).T)"
   ]
  },
  {
   "cell_type": "code",
   "execution_count": 67,
   "metadata": {},
   "outputs": [
    {
     "name": "stderr",
     "output_type": "stream",
     "text": [
      "/usr/local/lib/python3.5/dist-packages/IPython/core/interactiveshell.py:2910: FutureWarning: The value of this property will change in version 1.0. Please see https://github.com/mapbox/rasterio/issues/86 for details.\n",
      "  exec(code_obj, self.user_global_ns, self.user_ns)\n"
     ]
    },
    {
     "data": {
      "text/plain": [
       "array([  358395.,  4582305.])"
      ]
     },
     "execution_count": 67,
     "metadata": {},
     "output_type": "execute_result"
    }
   ],
   "source": [
    "[1,7,7]@(np.array(dataset.transform).reshape(2,3).T)"
   ]
  },
  {
   "cell_type": "code",
   "execution_count": null,
   "metadata": {},
   "outputs": [],
   "source": []
  },
  {
   "cell_type": "code",
   "execution_count": 77,
   "metadata": {},
   "outputs": [
    {
     "ename": "AttributeError",
     "evalue": "'rasterio._io.RasterReader' object has no attribute 'xy'",
     "output_type": "error",
     "traceback": [
      "\u001b[0;31m---------------------------------------------------------------------------\u001b[0m",
      "\u001b[0;31mAttributeError\u001b[0m                            Traceback (most recent call last)",
      "\u001b[0;32m<ipython-input-77-7799eeb69a5c>\u001b[0m in \u001b[0;36m<module>\u001b[0;34m()\u001b[0m\n\u001b[0;32m----> 1\u001b[0;31m \u001b[0mdataset\u001b[0m\u001b[0;34m.\u001b[0m\u001b[0mxy\u001b[0m\u001b[0;34m(\u001b[0m\u001b[0;36m7\u001b[0m\u001b[0;34m,\u001b[0m \u001b[0;36m7\u001b[0m\u001b[0;34m)\u001b[0m\u001b[0;34m\u001b[0m\u001b[0m\n\u001b[0m",
      "\u001b[0;31mAttributeError\u001b[0m: 'rasterio._io.RasterReader' object has no attribute 'xy'"
     ]
    }
   ],
   "source": [
    "#新版本\n",
    "dataset.xy(7, 7)"
   ]
  },
  {
   "cell_type": "code",
   "execution_count": 69,
   "metadata": {},
   "outputs": [
    {
     "data": {
      "text/plain": [
       "CRS({'init': 'epsg:32650'})"
      ]
     },
     "execution_count": 69,
     "metadata": {},
     "output_type": "execute_result"
    }
   ],
   "source": [
    "#坐标系\n",
    "dataset.crs"
   ]
  },
  {
   "cell_type": "code",
   "execution_count": 70,
   "metadata": {},
   "outputs": [
    {
     "data": {
      "text/plain": [
       "array([[0, 0, 0, ..., 0, 0, 0],\n",
       "       [0, 0, 0, ..., 0, 0, 0],\n",
       "       [0, 0, 0, ..., 0, 0, 0],\n",
       "       ..., \n",
       "       [0, 0, 0, ..., 0, 0, 0],\n",
       "       [0, 0, 0, ..., 0, 0, 0],\n",
       "       [0, 0, 0, ..., 0, 0, 0]], dtype=uint16)"
      ]
     },
     "execution_count": 70,
     "metadata": {},
     "output_type": "execute_result"
    }
   ],
   "source": [
    "#波段\n",
    "dataset.read(1)\n"
   ]
  },
  {
   "cell_type": "markdown",
   "metadata": {},
   "source": [
    "##### read()方法返回的是numpy数组"
   ]
  },
  {
   "cell_type": "code",
   "execution_count": 76,
   "metadata": {},
   "outputs": [
    {
     "data": {
      "text/plain": [
       "10716"
      ]
     },
     "execution_count": 76,
     "metadata": {},
     "output_type": "execute_result"
    }
   ],
   "source": [
    "#行列号索引\n",
    "dataset.read(1)[dataset.height // 2, dataset.width // 2]"
   ]
  },
  {
   "cell_type": "code",
   "execution_count": 75,
   "metadata": {},
   "outputs": [
    {
     "data": {
      "text/plain": [
       "(1666, 3333)"
      ]
     },
     "execution_count": 75,
     "metadata": {},
     "output_type": "execute_result"
    }
   ],
   "source": [
    "#空间索引\n",
    "x, y = (dataset.bounds.left + 100000, dataset.bounds.top - 50000)\n",
    "row, col = dataset.index(x, y)\n",
    "row, col"
   ]
  },
  {
   "cell_type": "code",
   "execution_count": null,
   "metadata": {},
   "outputs": [],
   "source": []
  }
 ],
 "metadata": {
  "kernelspec": {
   "display_name": "Python 3",
   "language": "python",
   "name": "python3"
  },
  "language_info": {
   "codemirror_mode": {
    "name": "ipython",
    "version": 3
   },
   "file_extension": ".py",
   "mimetype": "text/x-python",
   "name": "python",
   "nbconvert_exporter": "python",
   "pygments_lexer": "ipython3",
   "version": "3.5.2"
  }
 },
 "nbformat": 4,
 "nbformat_minor": 2
}
