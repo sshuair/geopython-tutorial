{
 "cells": [
  {
   "cell_type": "markdown",
   "metadata": {},
   "source": [
    "## CNN--手写数字识别"
   ]
  },
  {
   "cell_type": "markdown",
   "metadata": {},
   "source": [
    "![](https://upload.wikimedia.org/wikipedia/commons/2/27/MnistExamples.png)"
   ]
  },
  {
   "cell_type": "code",
   "execution_count": 16,
   "metadata": {},
   "outputs": [
    {
     "name": "stdout",
     "output_type": "stream",
     "text": [
      "0.4.0\n"
     ]
    }
   ],
   "source": [
    "%matplotlib inline\n",
    "from functools import reduce\n",
    "import numpy as np\n",
    "import torch\n",
    "import torch.nn as nn\n",
    "import torch.nn.functional as F\n",
    "import torch.utils.data.dataloader as dataloader\n",
    "import torch.optim as optim\n",
    "\n",
    "from torch.utils.data import TensorDataset\n",
    "from torch.autograd import Variable\n",
    "from torchvision import transforms\n",
    "from torchvision.datasets import MNIST\n",
    "\n",
    "from PIL import Image\n",
    "import matplotlib.pyplot as plt\n",
    "\n",
    "print(torch.__version__)"
   ]
  },
  {
   "cell_type": "code",
   "execution_count": 17,
   "metadata": {},
   "outputs": [],
   "source": [
    "SEED = 1\n",
    "\n",
    "# CUDA?\n",
    "cuda = torch.cuda.is_available()\n",
    "\n",
    "# For reproducibility\n",
    "torch.manual_seed(SEED)\n",
    "\n",
    "if cuda:\n",
    "    torch.cuda.manual_seed(SEED)"
   ]
  },
  {
   "cell_type": "code",
   "execution_count": 18,
   "metadata": {},
   "outputs": [],
   "source": [
    "batch_size = 64\n",
    "train_set = MNIST('./data', train=True, download=True, transform=transforms.Compose([\n",
    "    transforms.ToTensor(), # ToTensor does min-max normalization. \n",
    "]), )\n",
    "\n",
    "test_set = MNIST('./data', train=False, download=True, transform=transforms.Compose([\n",
    "    transforms.ToTensor(), # ToTensor does min-max normalization. \n",
    "]), )\n",
    "\n",
    "# Create DataLoader\n",
    "dataloader_args = dict(shuffle=True, batch_size=batch_size, num_workers=4, pin_memory=True) if cuda else dict(shuffle=True, batch_size=batch_size)\n",
    "train_loader = dataloader.DataLoader(train_set, **dataloader_args)\n",
    "test_loader = dataloader.DataLoader(test_set, **dataloader_args)"
   ]
  },
  {
   "cell_type": "code",
   "execution_count": 19,
   "metadata": {},
   "outputs": [],
   "source": [
    "def imshow_multi(images):\n",
    "    f = plt.figure()\n",
    "    for n, im in enumerate(images):\n",
    "        im = np.clip(im, 0, 1)\n",
    "        f.add_subplot(1, len(images), n+1)  # this line outputs images on top of each other\n",
    "        # f.add_subplot(1, 2, n)  # this line outputs images side-by-side\n",
    "        fig = plt.imshow(im, cmap='gray', vmin=0, vmax=1)\n",
    "        fig.axes.get_xaxis().set_visible(False) # this is the worst api in the world\n",
    "        fig.axes.get_yaxis().set_visible(False)\n",
    "    plt.show()"
   ]
  },
  {
   "cell_type": "code",
   "execution_count": 21,
   "metadata": {},
   "outputs": [
    {
     "data": {
      "image/png": "[encoded data removed]",
      "text/plain": [
       "<PIL.Image.Image image mode=L size=28x28 at 0x116E230F0>"
      ]
     },
     "execution_count": 21,
     "metadata": {},
     "output_type": "execute_result"
    }
   ],
   "source": [
    "img = train_set.train_data[2,:,:].numpy()\n",
    "Image.fromarray(img)"
   ]
  },
  {
   "cell_type": "code",
   "execution_count": 6,
   "metadata": {},
   "outputs": [
    {
     "data": {
      "image/png": "[encoded data removed]",
      "text/plain": [
       "<matplotlib.figure.Figure at 0x116aad438>"
      ]
     },
     "metadata": {},
     "output_type": "display_data"
    },
    {
     "name": "stdout",
     "output_type": "stream",
     "text": [
      "tensor([ 5,  0,  4,  1,  9,  2,  1,  3,  1])\n"
     ]
    }
   ],
   "source": [
    "imshow_multi(train_set.train_data[0:9,:,:].numpy())\n",
    "print(train_set.train_labels[0:9])"
   ]
  },
  {
   "cell_type": "markdown",
   "metadata": {},
   "source": [
    "## 定义神经网络\n"
   ]
  },
  {
   "cell_type": "code",
   "execution_count": 28,
   "metadata": {},
   "outputs": [],
   "source": [
    "class Net(nn.Module):\n",
    "    def __init__(self):\n",
    "        super(Net, self).__init__()\n",
    "        self.conv1 = nn.Conv2d(1, 6, kernel_size=5)\n",
    "        self.pool1 = nn.MaxPool2d(2)\n",
    "        self.conv2 = nn.Conv2d(6, 16, kernel_size=5)\n",
    "        self.pool2 = nn.MaxPool2d(2)\n",
    "        self.drop = nn.Dropout2d()\n",
    "        self.fc1 = nn.Linear(16*4*4, 100) #TODO: 寻找自动匹配方法\n",
    "        self.fc2 = nn.Linear(100, 50)\n",
    "        self.fc3 = nn.Linear(50, 10)\n",
    "\n",
    "    def forward(self, x):\n",
    "        \"\"\"\n",
    "        \n",
    "        :param x: 一个batch的数据，输入结构：[batch_size, image_channel, image_width, image_height]\n",
    "        :return: 前向传播结果\n",
    "        \"\"\"\n",
    "        # 第一阶段特征提取（卷积、relu、池化）\n",
    "        x = self.pool1(F.relu(self.conv1(x)))\n",
    "\n",
    "        # 第二阶段特征提取（卷积、relu、池化）\n",
    "        x = self.pool2(F.relu(self.conv2(x)))\n",
    "\n",
    "        # dropout\n",
    "        x = self.drop(x)\n",
    "\n",
    "        # flat features 多维维空间一维化，输出也就是[batch_size, image_channel * image_width * image_height]\n",
    "        x = x.view(-1, self.num_flat_features(x))\n",
    "        # x = x.view(batch_size, -1)  不能用这种方法，因为最后一个epoch可能不是正好整除batch_size\n",
    "\n",
    "        # 全连接层（fc1，fc2，fc3）\n",
    "        x = F.relu(self.fc1(x))\n",
    "        x = F.relu(self.fc2(x))\n",
    "        x = F.relu(self.fc3(x))\n",
    "\n",
    "        return F.log_softmax(x)\n",
    "\n",
    "    def num_flat_features(self, x):\n",
    "        feature_size = x.size()[1:]\n",
    "        num_flat = reduce(lambda m, n: m*n, feature_size, 1)\n",
    "        return num_flat\n",
    "    \n",
    "net = Net()"
   ]
  },
  {
   "cell_type": "code",
   "execution_count": 29,
   "metadata": {},
   "outputs": [
    {
     "data": {
      "text/plain": [
       "Net(\n",
       "  (conv1): Conv2d(1, 6, kernel_size=(5, 5), stride=(1, 1))\n",
       "  (pool1): MaxPool2d(kernel_size=2, stride=2, padding=0, dilation=1, ceil_mode=False)\n",
       "  (conv2): Conv2d(6, 16, kernel_size=(5, 5), stride=(1, 1))\n",
       "  (pool2): MaxPool2d(kernel_size=2, stride=2, padding=0, dilation=1, ceil_mode=False)\n",
       "  (drop): Dropout2d(p=0.5)\n",
       "  (fc1): Linear(in_features=256, out_features=100, bias=True)\n",
       "  (fc2): Linear(in_features=100, out_features=50, bias=True)\n",
       "  (fc3): Linear(in_features=50, out_features=10, bias=True)\n",
       ")"
      ]
     },
     "execution_count": 29,
     "metadata": {},
     "output_type": "execute_result"
    }
   ],
   "source": [
    "net"
   ]
  },
  {
   "cell_type": "markdown",
   "metadata": {},
   "source": [
    "## 定义损失函数"
   ]
  },
  {
   "cell_type": "code",
   "execution_count": 30,
   "metadata": {},
   "outputs": [],
   "source": [
    "criterion = nn.CrossEntropyLoss()\n",
    "optimizer = optim.SGD(params=net.parameters(), lr=0.01, momentum=0.9)"
   ]
  },
  {
   "cell_type": "code",
   "execution_count": 34,
   "metadata": {},
   "outputs": [
    {
     "name": "stderr",
     "output_type": "stream",
     "text": [
      "/Users/sshuair/anaconda3/lib/python3.5/site-packages/ipykernel/__main__.py:37: UserWarning: Implicit dimension choice for log_softmax has been deprecated. Change the call to include dim=X as an argument.\n",
      "/Users/sshuair/anaconda3/lib/python3.5/site-packages/ipykernel/__main__.py:20: UserWarning: invalid index of a 0-dim tensor. This will be an error in PyTorch 0.5. Use tensor.item() to convert a 0-dim tensor to a Python number\n",
      "/Users/sshuair/anaconda3/lib/python3.5/site-packages/ipykernel/__main__.py:22: UserWarning: invalid index of a 0-dim tensor. This will be an error in PyTorch 0.5. Use tensor.item() to convert a 0-dim tensor to a Python number\n"
     ]
    },
    {
     "name": "stdout",
     "output_type": "stream",
     "text": [
      "Train Epoch[1]: Batch[0/60000 (0.00%%)]  Loss: 0.395395\n",
      "Train Epoch[1]: Batch[4096/60000 (6.83%%)]  Loss: 0.232283\n",
      "Train Epoch[1]: Batch[8192/60000 (13.65%%)]  Loss: 0.134976\n",
      "Train Epoch[1]: Batch[12288/60000 (20.48%%)]  Loss: 0.489404\n",
      "Train Epoch[1]: Batch[16384/60000 (27.31%%)]  Loss: 0.306701\n",
      "Train Epoch[1]: Batch[20480/60000 (34.13%%)]  Loss: 0.39925\n",
      "Train Epoch[1]: Batch[24576/60000 (40.96%%)]  Loss: 0.401187\n",
      "Train Epoch[1]: Batch[28672/60000 (47.79%%)]  Loss: 0.356048\n",
      "Train Epoch[1]: Batch[32768/60000 (54.61%%)]  Loss: 0.2322\n",
      "Train Epoch[1]: Batch[36864/60000 (61.44%%)]  Loss: 0.22282\n",
      "Train Epoch[1]: Batch[40960/60000 (68.27%%)]  Loss: 0.367238\n",
      "Train Epoch[1]: Batch[45056/60000 (75.09%%)]  Loss: 0.295718\n",
      "Train Epoch[1]: Batch[49152/60000 (81.92%%)]  Loss: 0.466787\n",
      "Train Epoch[1]: Batch[53248/60000 (88.75%%)]  Loss: 0.115873\n",
      "Train Epoch[1]: Batch[57344/60000 (95.57%%)]  Loss: 0.241179\n"
     ]
    },
    {
     "name": "stderr",
     "output_type": "stream",
     "text": [
      "/Users/sshuair/anaconda3/lib/python3.5/site-packages/ipykernel/__main__.py:37: UserWarning: invalid index of a 0-dim tensor. This will be an error in PyTorch 0.5. Use tensor.item() to convert a 0-dim tensor to a Python number\n"
     ]
    },
    {
     "name": "stdout",
     "output_type": "stream",
     "text": [
      "\n",
      "Test  Epoch 1: Average loss: 0.278398, Accuracy:88.690000%\n",
      "\n",
      "Train Epoch[2]: Batch[0/60000 (0.00%%)]  Loss: 0.58376\n",
      "Train Epoch[2]: Batch[4096/60000 (6.83%%)]  Loss: 0.328403\n",
      "Train Epoch[2]: Batch[8192/60000 (13.65%%)]  Loss: 0.452982\n",
      "Train Epoch[2]: Batch[12288/60000 (20.48%%)]  Loss: 0.18999\n",
      "Train Epoch[2]: Batch[16384/60000 (27.31%%)]  Loss: 0.272141\n",
      "Train Epoch[2]: Batch[20480/60000 (34.13%%)]  Loss: 0.186715\n",
      "Train Epoch[2]: Batch[24576/60000 (40.96%%)]  Loss: 0.527098\n",
      "Train Epoch[2]: Batch[28672/60000 (47.79%%)]  Loss: 0.283315\n",
      "Train Epoch[2]: Batch[32768/60000 (54.61%%)]  Loss: 0.165231\n",
      "Train Epoch[2]: Batch[36864/60000 (61.44%%)]  Loss: 0.419109\n",
      "Train Epoch[2]: Batch[40960/60000 (68.27%%)]  Loss: 0.460211\n",
      "Train Epoch[2]: Batch[45056/60000 (75.09%%)]  Loss: 0.348023\n",
      "Train Epoch[2]: Batch[49152/60000 (81.92%%)]  Loss: 0.230655\n",
      "Train Epoch[2]: Batch[53248/60000 (88.75%%)]  Loss: 0.528632\n",
      "Train Epoch[2]: Batch[57344/60000 (95.57%%)]  Loss: 0.339229\n",
      "\n",
      "Test  Epoch 2: Average loss: 0.263436, Accuracy:89.300000%\n",
      "\n",
      "Train Epoch[3]: Batch[0/60000 (0.00%%)]  Loss: 0.165613\n",
      "Train Epoch[3]: Batch[4096/60000 (6.83%%)]  Loss: 0.260556\n",
      "Train Epoch[3]: Batch[8192/60000 (13.65%%)]  Loss: 0.397575\n",
      "Train Epoch[3]: Batch[12288/60000 (20.48%%)]  Loss: 0.440297\n",
      "Train Epoch[3]: Batch[16384/60000 (27.31%%)]  Loss: 0.44133\n",
      "Train Epoch[3]: Batch[20480/60000 (34.13%%)]  Loss: 0.305094\n",
      "Train Epoch[3]: Batch[24576/60000 (40.96%%)]  Loss: 0.469454\n",
      "Train Epoch[3]: Batch[28672/60000 (47.79%%)]  Loss: 0.506836\n",
      "Train Epoch[3]: Batch[32768/60000 (54.61%%)]  Loss: 0.213419\n",
      "Train Epoch[3]: Batch[36864/60000 (61.44%%)]  Loss: 0.213894\n",
      "Train Epoch[3]: Batch[40960/60000 (68.27%%)]  Loss: 0.31099\n",
      "Train Epoch[3]: Batch[45056/60000 (75.09%%)]  Loss: 0.26481\n",
      "Train Epoch[3]: Batch[49152/60000 (81.92%%)]  Loss: 0.195676\n",
      "Train Epoch[3]: Batch[53248/60000 (88.75%%)]  Loss: 0.447903\n",
      "Train Epoch[3]: Batch[57344/60000 (95.57%%)]  Loss: 0.153789\n",
      "\n",
      "Test  Epoch 3: Average loss: 0.260823, Accuracy:89.410000%\n",
      "\n",
      "Train Epoch[4]: Batch[0/60000 (0.00%%)]  Loss: 0.252795\n",
      "Train Epoch[4]: Batch[4096/60000 (6.83%%)]  Loss: 0.251281\n",
      "Train Epoch[4]: Batch[8192/60000 (13.65%%)]  Loss: 0.354481\n",
      "Train Epoch[4]: Batch[12288/60000 (20.48%%)]  Loss: 0.204245\n",
      "Train Epoch[4]: Batch[16384/60000 (27.31%%)]  Loss: 0.322108\n",
      "Train Epoch[4]: Batch[20480/60000 (34.13%%)]  Loss: 0.198012\n",
      "Train Epoch[4]: Batch[24576/60000 (40.96%%)]  Loss: 0.29557\n",
      "Train Epoch[4]: Batch[28672/60000 (47.79%%)]  Loss: 0.341427\n",
      "Train Epoch[4]: Batch[32768/60000 (54.61%%)]  Loss: 0.320822\n",
      "Train Epoch[4]: Batch[36864/60000 (61.44%%)]  Loss: 0.490088\n",
      "Train Epoch[4]: Batch[40960/60000 (68.27%%)]  Loss: 0.244576\n",
      "Train Epoch[4]: Batch[45056/60000 (75.09%%)]  Loss: 0.433652\n",
      "Train Epoch[4]: Batch[49152/60000 (81.92%%)]  Loss: 0.344635\n",
      "Train Epoch[4]: Batch[53248/60000 (88.75%%)]  Loss: 0.12859\n",
      "Train Epoch[4]: Batch[57344/60000 (95.57%%)]  Loss: 0.286839\n",
      "\n",
      "Test  Epoch 4: Average loss: 0.259544, Accuracy:89.370000%\n",
      "\n"
     ]
    }
   ],
   "source": [
    "train_losses = []\n",
    "test_losses = []\n",
    "test_acc = []\n",
    "\n",
    "batch_size=64\n",
    "\n",
    "def train(epoch):\n",
    "    net.train()\n",
    "    for batch_idx, (data, target) in enumerate(train_loader):\n",
    "        optimizer.zero_grad()\n",
    "        outputs = net(data)  # 输出结果outputs(batch_size, class_num)\n",
    "        loss = criterion(outputs, target)  \n",
    "        loss.backward()\n",
    "        optimizer.step()\n",
    "\n",
    "        if batch_idx % batch_size == 0:  # print every batch_size(64) mini-batches\n",
    "            print('Train Epoch[{}]: Batch[{}/{} ({:.2%}%)]  Loss: {:.6}'.format(\n",
    "                epoch, batch_idx * batch_size,\n",
    "                len(train_loader.dataset), batch_size * batch_idx / len(train_loader.dataset),\n",
    "                loss.data[0]\n",
    "            ))\n",
    "            train_losses.append(loss.data[0])\n",
    "\n",
    "\n",
    "def test(epoch):\n",
    "    \"\"\"\n",
    "    整体思路是：feed forward, 计算出预测的结果，然后统计预测的结果中正确的所占比例即为精度，\n",
    "    在预测中不需要backward\n",
    "    :param epoch: \n",
    "    :return: \n",
    "    \"\"\"\n",
    "    net.eval()\n",
    "    correct = 0\n",
    "    test_loss = 0\n",
    "    for batch_idx, (data, target) in enumerate(test_loader):\n",
    "        outputs = net(data)\n",
    "        test_loss += criterion(outputs, target).data[0]\n",
    "        y_pred = outputs.data.max(1)[1]\n",
    "#         correct += y_pred.eq(target.data).sum()\n",
    "        correct += y_pred.eq(target.view_as(y_pred)).sum().item()\n",
    "        \n",
    "\n",
    "    avg_loss = test_loss / len(test_loader)  # loss function already averages over batch size\n",
    "    print('\\nTest  Epoch {}: Average loss: {:.6}, Accuracy:{:.6%}\\n'.format(\n",
    "        epoch, avg_loss, correct / len(test_loader.dataset)\n",
    "    ))\n",
    "    test_acc.append(correct / len(test_loader.dataset))\n",
    "\n",
    "\n",
    "for epoch in range(1, 5):\n",
    "    train(epoch)\n",
    "    test(epoch)"
   ]
  },
  {
   "cell_type": "code",
   "execution_count": 32,
   "metadata": {},
   "outputs": [
    {
     "data": {
      "text/plain": [
       "Text(0,0.5,'Loss')"
      ]
     },
     "execution_count": 32,
     "metadata": {},
     "output_type": "execute_result"
    },
    {
     "data": {
      "image/png": "[encoded data removed]",
      "text/plain": [
       "<matplotlib.figure.Figure at 0x116b5a7f0>"
      ]
     },
     "metadata": {},
     "output_type": "display_data"
    }
   ],
   "source": [
    "# 绘制loss 曲线\n",
    "plt.plot(train_losses)\n",
    "plt.xlabel('batch')\n",
    "plt.ylabel('Loss')"
   ]
  },
  {
   "cell_type": "code",
   "execution_count": 33,
   "metadata": {},
   "outputs": [
    {
     "data": {
      "text/plain": [
       "Text(0,0.5,'Accuracy')"
      ]
     },
     "execution_count": 33,
     "metadata": {},
     "output_type": "execute_result"
    },
    {
     "data": {
      "image/png": "[encoded data removed]",
      "text/plain": [
       "<matplotlib.figure.Figure at 0x116efe780>"
      ]
     },
     "metadata": {},
     "output_type": "display_data"
    }
   ],
   "source": [
    "# 绘制测试集准确率曲线\n",
    "plt.plot(test_acc)\n",
    "plt.xlabel('batch')\n",
    "plt.ylabel('Accuracy')"
   ]
  },
  {
   "cell_type": "markdown",
   "metadata": {},
   "source": [
    "## 验证"
   ]
  },
  {
   "cell_type": "code",
   "execution_count": 35,
   "metadata": {},
   "outputs": [],
   "source": [
    "a = test_set.test_data[0,:,:]\n",
    "a = torch.unsqueeze(a,0)\n",
    "a = torch.unsqueeze(a,0)\n",
    "a = a.float()\n"
   ]
  },
  {
   "cell_type": "code",
   "execution_count": 36,
   "metadata": {},
   "outputs": [
    {
     "name": "stderr",
     "output_type": "stream",
     "text": [
      "/Users/sshuair/anaconda3/lib/python3.5/site-packages/ipykernel/__main__.py:37: UserWarning: Implicit dimension choice for log_softmax has been deprecated. Change the call to include dim=X as an argument.\n"
     ]
    },
    {
     "data": {
      "text/plain": [
       "tensor([ 7])"
      ]
     },
     "execution_count": 36,
     "metadata": {},
     "output_type": "execute_result"
    }
   ],
   "source": [
    "output = net(a)\n",
    "y_pred = output.data.max(1)[1]\n",
    "y_pred"
   ]
  },
  {
   "cell_type": "code",
   "execution_count": 14,
   "metadata": {},
   "outputs": [
    {
     "data": {
      "text/plain": [
       "tensor(7)"
      ]
     },
     "execution_count": 14,
     "metadata": {},
     "output_type": "execute_result"
    }
   ],
   "source": [
    "# 真值\n",
    "test_set.test_labels[0]"
   ]
  },
  {
   "cell_type": "code",
   "execution_count": 15,
   "metadata": {},
   "outputs": [
    {
     "data": {
      "image/png": "[encoded data removed]",
      "text/plain": [
       "<PIL.Image.Image image mode=L size=28x28 at 0x116AF6438>"
      ]
     },
     "execution_count": 15,
     "metadata": {},
     "output_type": "execute_result"
    }
   ],
   "source": [
    "Image.fromarray(test_set.test_data[0,:,:].numpy())"
   ]
  },
  {
   "cell_type": "code",
   "execution_count": null,
   "metadata": {},
   "outputs": [],
   "source": []
  }
 ],
 "metadata": {
  "anaconda-cloud": {},
  "kernelspec": {
   "display_name": "Python [default]",
   "language": "python",
   "name": "python3"
  },
  "language_info": {
   "codemirror_mode": {
    "name": "ipython",
    "version": 3
   },
   "file_extension": ".py",
   "mimetype": "text/x-python",
   "name": "python",
   "nbconvert_exporter": "python",
   "pygments_lexer": "ipython3",
   "version": "3.5.2"
  }
 },
 "nbformat": 4,
 "nbformat_minor": 2
}
