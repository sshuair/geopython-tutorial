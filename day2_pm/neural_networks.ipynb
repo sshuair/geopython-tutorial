{
 "cells": [
  {
   "cell_type": "code",
   "execution_count": 1,
   "metadata": {
    "collapsed": false
   },
   "outputs": [],
   "source": [
    "%matplotlib inline"
   ]
  },
  {
   "cell_type": "markdown",
   "metadata": {},
   "source": [
    "dataset mnist"
   ]
  },
  {
   "cell_type": "code",
   "execution_count": 39,
   "metadata": {},
   "outputs": [
    {
     "ename": "AttributeError",
     "evalue": "module 'torch' has no attribute '__version___'",
     "output_type": "error",
     "traceback": [
      "\u001b[0;31m---------------------------------------------------------------------------\u001b[0m",
      "\u001b[0;31mAttributeError\u001b[0m                            Traceback (most recent call last)",
      "\u001b[0;32m<ipython-input-39-a3f45cc0f7c0>\u001b[0m in \u001b[0;36m<module>\u001b[0;34m()\u001b[0m\n\u001b[1;32m     15\u001b[0m \u001b[0;32mimport\u001b[0m \u001b[0mmatplotlib\u001b[0m\u001b[0;34m.\u001b[0m\u001b[0mpyplot\u001b[0m \u001b[0;32mas\u001b[0m \u001b[0mplt\u001b[0m\u001b[0;34m\u001b[0m\u001b[0m\n\u001b[1;32m     16\u001b[0m \u001b[0;34m\u001b[0m\u001b[0m\n\u001b[0;32m---> 17\u001b[0;31m \u001b[0mprint\u001b[0m\u001b[0;34m(\u001b[0m\u001b[0mtorch\u001b[0m\u001b[0;34m.\u001b[0m\u001b[0m__version___\u001b[0m\u001b[0;34m)\u001b[0m\u001b[0;34m\u001b[0m\u001b[0m\n\u001b[0m",
      "\u001b[0;31mAttributeError\u001b[0m: module 'torch' has no attribute '__version___'"
     ]
    }
   ],
   "source": [
    "from functools import reduce\n",
    "import numpy as np\n",
    "import torch\n",
    "import torch.nn as nn\n",
    "import torch.nn.functional as F\n",
    "import torch.utils.data.dataloader as dataloader\n",
    "import torch.optim as optim\n",
    "\n",
    "from torch.utils.data import TensorDataset\n",
    "from torch.autograd import Variable\n",
    "from torchvision import transforms\n",
    "from torchvision.datasets import MNIST\n",
    "\n",
    "from PIL import Image\n",
    "import matplotlib.pyplot as plt\n",
    "\n",
    "print(torch.__version___)"
   ]
  },
  {
   "cell_type": "code",
   "execution_count": 40,
   "metadata": {},
   "outputs": [],
   "source": [
    "SEED = 1\n",
    "\n",
    "# CUDA?\n",
    "cuda = torch.cuda.is_available()\n",
    "\n",
    "# For reproducibility\n",
    "torch.manual_seed(SEED)\n",
    "\n",
    "if cuda:\n",
    "    torch.cuda.manual_seed(SEED)"
   ]
  },
  {
   "cell_type": "code",
   "execution_count": 43,
   "metadata": {},
   "outputs": [],
   "source": [
    "batch_size = 64\n",
    "train_set = MNIST('./data', train=True, download=True, transform=transforms.Compose([\n",
    "    transforms.ToTensor(), # ToTensor does min-max normalization. \n",
    "]), )\n",
    "\n",
    "test_set = MNIST('./data', train=False, download=True, transform=transforms.Compose([\n",
    "    transforms.ToTensor(), # ToTensor does min-max normalization. \n",
    "]), )\n",
    "\n",
    "# Create DataLoader\n",
    "dataloader_args = dict(shuffle=True, batch_size=batch_size, num_workers=4, pin_memory=True) if cuda else dict(shuffle=True, batch_size=batch_size)\n",
    "train_loader = dataloader.DataLoader(train_set, **dataloader_args)\n",
    "test_loader = dataloader.DataLoader(test_set, **dataloader_args)"
   ]
  },
  {
   "cell_type": "code",
   "execution_count": 44,
   "metadata": {},
   "outputs": [],
   "source": [
    "def imshow_multi(images):\n",
    "    f = plt.figure()\n",
    "    for n, im in enumerate(images):\n",
    "        im = np.clip(im, 0, 1)\n",
    "        f.add_subplot(1, len(images), n+1)  # this line outputs images on top of each other\n",
    "        # f.add_subplot(1, 2, n)  # this line outputs images side-by-side\n",
    "        fig = plt.imshow(im, cmap='gray', vmin=0, vmax=1)\n",
    "        fig.axes.get_xaxis().set_visible(False) # this is the worst api in the world\n",
    "        fig.axes.get_yaxis().set_visible(False)\n",
    "    plt.show()"
   ]
  },
  {
   "cell_type": "code",
   "execution_count": 45,
   "metadata": {},
   "outputs": [
    {
     "data": {
      "image/png": "[encoded data removed]",
      "text/plain": [
       "<PIL.Image.Image image mode=L size=28x28 at 0x113566400>"
      ]
     },
     "execution_count": 45,
     "metadata": {},
     "output_type": "execute_result"
    }
   ],
   "source": [
    "img = train_set.train_data[4,:,:].numpy()\n",
    "Image.fromarray(img)"
   ]
  },
  {
   "cell_type": "code",
   "execution_count": 47,
   "metadata": {},
   "outputs": [
    {
     "data": {
      "image/png": "[encoded data removed]",
      "text/plain": [
       "<matplotlib.figure.Figure at 0x11357d208>"
      ]
     },
     "metadata": {},
     "output_type": "display_data"
    },
    {
     "name": "stdout",
     "output_type": "stream",
     "text": [
      "tensor([ 5,  0,  4,  1,  9,  2,  1,  3,  1])\n"
     ]
    }
   ],
   "source": [
    "imshow_multi(train_set.train_data[0:9,:,:].numpy())\n",
    "print(train_set.train_labels[0:9])"
   ]
  },
  {
   "cell_type": "markdown",
   "metadata": {},
   "source": [
    "## 定义神经网络\n"
   ]
  },
  {
   "cell_type": "code",
   "execution_count": 48,
   "metadata": {
    "collapsed": false
   },
   "outputs": [],
   "source": [
    "class Net(nn.Module):\n",
    "    def __init__(self):\n",
    "        super(Net, self).__init__()\n",
    "        self.conv1 = nn.Conv2d(1, 6, kernel_size=5)\n",
    "        self.pool1 = nn.MaxPool2d(2)\n",
    "        self.conv2 = nn.Conv2d(6, 16, kernel_size=5)\n",
    "        self.pool2 = nn.MaxPool2d(2)\n",
    "        self.drop = nn.Dropout2d()\n",
    "        self.fc1 = nn.Linear(16*4*4, 100) #TODO: 寻找自动匹配方法\n",
    "        self.fc2 = nn.Linear(100, 50)\n",
    "        self.fc3 = nn.Linear(50, 10)\n",
    "\n",
    "    def forward(self, x):\n",
    "        \"\"\"\n",
    "        \n",
    "        :param x: 一个batch的数据，输入结构：[batch_size, image_channel, image_width, image_height]\n",
    "        :return: 前向传播结果\n",
    "        \"\"\"\n",
    "        # 第一阶段特征提取（卷积、relu、池化）\n",
    "        x = self.pool1(F.relu(self.conv1(x)))\n",
    "\n",
    "        # 第二阶段特征提取（卷积、relu、池化）\n",
    "        x = self.pool2(F.relu(self.conv2(x)))\n",
    "\n",
    "        # dropout\n",
    "        x = self.drop(x)\n",
    "\n",
    "        # flat features 多维维空间一维化，输出也就是[batch_size, image_channel * image_width * image_height]\n",
    "        x = x.view(-1, self.num_flat_features(x))\n",
    "        # x = x.view(batch_size, -1)  不能用这种方法，因为最后一个epoch可能不是正好整除batch_size\n",
    "\n",
    "        # 全连接层（fc1，fc2，fc3）\n",
    "        x = F.relu(self.fc1(x))\n",
    "        x = F.relu(self.fc2(x))\n",
    "        x = F.relu(self.fc3(x))\n",
    "\n",
    "        return F.log_softmax(x)\n",
    "\n",
    "    def num_flat_features(self, x):\n",
    "        feature_size = x.size()[1:]\n",
    "        num_flat = reduce(lambda m, n: m*n, feature_size, 1)\n",
    "        return num_flat\n",
    "    \n",
    "net = Net()"
   ]
  },
  {
   "cell_type": "markdown",
   "metadata": {},
   "source": [
    "## 定义损失函数"
   ]
  },
  {
   "cell_type": "code",
   "execution_count": 49,
   "metadata": {},
   "outputs": [],
   "source": [
    "criterion = nn.CrossEntropyLoss()\n",
    "optimizer = optim.SGD(params=net.parameters(), lr=0.01, momentum=0.9)"
   ]
  },
  {
   "cell_type": "code",
   "execution_count": 86,
   "metadata": {},
   "outputs": [
    {
     "name": "stderr",
     "output_type": "stream",
     "text": [
      "/Users/sshuair/anaconda3/lib/python3.5/site-packages/ipykernel/__main__.py:37: UserWarning: Implicit dimension choice for log_softmax has been deprecated. Change the call to include dim=X as an argument.\n",
      "/Users/sshuair/anaconda3/lib/python3.5/site-packages/ipykernel/__main__.py:17: UserWarning: invalid index of a 0-dim tensor. This will be an error in PyTorch 0.5. Use tensor.item() to convert a 0-dim tensor to a Python number\n",
      "/Users/sshuair/anaconda3/lib/python3.5/site-packages/ipykernel/__main__.py:19: UserWarning: invalid index of a 0-dim tensor. This will be an error in PyTorch 0.5. Use tensor.item() to convert a 0-dim tensor to a Python number\n"
     ]
    },
    {
     "name": "stdout",
     "output_type": "stream",
     "text": [
      "Train Epoch[1]: Batch[0/60000 (0.00%%)]  Loss: 0.730064\n",
      "Train Epoch[1]: Batch[4096/60000 (6.83%%)]  Loss: 0.550426\n",
      "Train Epoch[1]: Batch[8192/60000 (13.65%%)]  Loss: 0.453059\n",
      "Train Epoch[1]: Batch[12288/60000 (20.48%%)]  Loss: 0.422302\n",
      "Train Epoch[1]: Batch[16384/60000 (27.31%%)]  Loss: 0.600512\n",
      "Train Epoch[1]: Batch[20480/60000 (34.13%%)]  Loss: 0.305183\n",
      "Train Epoch[1]: Batch[24576/60000 (40.96%%)]  Loss: 0.50171\n",
      "Train Epoch[1]: Batch[28672/60000 (47.79%%)]  Loss: 0.617226\n",
      "Train Epoch[1]: Batch[32768/60000 (54.61%%)]  Loss: 0.383861\n",
      "Train Epoch[1]: Batch[36864/60000 (61.44%%)]  Loss: 0.487687\n",
      "Train Epoch[1]: Batch[40960/60000 (68.27%%)]  Loss: 0.304005\n",
      "Train Epoch[1]: Batch[45056/60000 (75.09%%)]  Loss: 0.485827\n",
      "Train Epoch[1]: Batch[49152/60000 (81.92%%)]  Loss: 0.432134\n",
      "Train Epoch[1]: Batch[53248/60000 (88.75%%)]  Loss: 0.498942\n",
      "Train Epoch[1]: Batch[57344/60000 (95.57%%)]  Loss: 0.540839\n"
     ]
    },
    {
     "name": "stderr",
     "output_type": "stream",
     "text": [
      "/Users/sshuair/anaconda3/lib/python3.5/site-packages/ipykernel/__main__.py:34: UserWarning: invalid index of a 0-dim tensor. This will be an error in PyTorch 0.5. Use tensor.item() to convert a 0-dim tensor to a Python number\n"
     ]
    },
    {
     "name": "stdout",
     "output_type": "stream",
     "text": [
      "\n",
      "Test  Epoch 1: Average loss: 0.128359, Accuracy:96.170000%\n",
      "\n",
      "Train Epoch[2]: Batch[0/60000 (0.00%%)]  Loss: 0.132041\n",
      "Train Epoch[2]: Batch[4096/60000 (6.83%%)]  Loss: 0.167896\n",
      "Train Epoch[2]: Batch[8192/60000 (13.65%%)]  Loss: 0.17117\n",
      "Train Epoch[2]: Batch[12288/60000 (20.48%%)]  Loss: 0.138968\n",
      "Train Epoch[2]: Batch[16384/60000 (27.31%%)]  Loss: 0.218223\n",
      "Train Epoch[2]: Batch[20480/60000 (34.13%%)]  Loss: 0.136549\n",
      "Train Epoch[2]: Batch[24576/60000 (40.96%%)]  Loss: 0.155736\n",
      "Train Epoch[2]: Batch[28672/60000 (47.79%%)]  Loss: 0.0813156\n",
      "Train Epoch[2]: Batch[32768/60000 (54.61%%)]  Loss: 0.16703\n",
      "Train Epoch[2]: Batch[36864/60000 (61.44%%)]  Loss: 0.118343\n",
      "Train Epoch[2]: Batch[40960/60000 (68.27%%)]  Loss: 0.130953\n",
      "Train Epoch[2]: Batch[45056/60000 (75.09%%)]  Loss: 0.286894\n",
      "Train Epoch[2]: Batch[49152/60000 (81.92%%)]  Loss: 0.16719\n",
      "Train Epoch[2]: Batch[53248/60000 (88.75%%)]  Loss: 0.0331202\n",
      "Train Epoch[2]: Batch[57344/60000 (95.57%%)]  Loss: 0.220235\n",
      "\n",
      "Test  Epoch 2: Average loss: 0.0798143, Accuracy:97.700000%\n",
      "\n",
      "Train Epoch[3]: Batch[0/60000 (0.00%%)]  Loss: 0.133348\n",
      "Train Epoch[3]: Batch[4096/60000 (6.83%%)]  Loss: 0.197214\n",
      "Train Epoch[3]: Batch[8192/60000 (13.65%%)]  Loss: 0.248987\n",
      "Train Epoch[3]: Batch[12288/60000 (20.48%%)]  Loss: 0.0587886\n",
      "Train Epoch[3]: Batch[16384/60000 (27.31%%)]  Loss: 0.17822\n",
      "Train Epoch[3]: Batch[20480/60000 (34.13%%)]  Loss: 0.180227\n",
      "Train Epoch[3]: Batch[24576/60000 (40.96%%)]  Loss: 0.184219\n",
      "Train Epoch[3]: Batch[28672/60000 (47.79%%)]  Loss: 0.128485\n",
      "Train Epoch[3]: Batch[32768/60000 (54.61%%)]  Loss: 0.0887968\n",
      "Train Epoch[3]: Batch[36864/60000 (61.44%%)]  Loss: 0.0821515\n",
      "Train Epoch[3]: Batch[40960/60000 (68.27%%)]  Loss: 0.0643201\n",
      "Train Epoch[3]: Batch[45056/60000 (75.09%%)]  Loss: 0.141545\n",
      "Train Epoch[3]: Batch[49152/60000 (81.92%%)]  Loss: 0.113176\n",
      "Train Epoch[3]: Batch[53248/60000 (88.75%%)]  Loss: 0.0976845\n",
      "Train Epoch[3]: Batch[57344/60000 (95.57%%)]  Loss: 0.201563\n",
      "\n",
      "Test  Epoch 3: Average loss: 0.0673937, Accuracy:97.690000%\n",
      "\n",
      "Train Epoch[4]: Batch[0/60000 (0.00%%)]  Loss: 0.085938\n",
      "Train Epoch[4]: Batch[4096/60000 (6.83%%)]  Loss: 0.0945498\n",
      "Train Epoch[4]: Batch[8192/60000 (13.65%%)]  Loss: 0.187728\n",
      "Train Epoch[4]: Batch[12288/60000 (20.48%%)]  Loss: 0.0987704\n",
      "Train Epoch[4]: Batch[16384/60000 (27.31%%)]  Loss: 0.124797\n",
      "Train Epoch[4]: Batch[20480/60000 (34.13%%)]  Loss: 0.276675\n",
      "Train Epoch[4]: Batch[24576/60000 (40.96%%)]  Loss: 0.232658\n",
      "Train Epoch[4]: Batch[28672/60000 (47.79%%)]  Loss: 0.0740323\n",
      "Train Epoch[4]: Batch[32768/60000 (54.61%%)]  Loss: 0.0977014\n",
      "Train Epoch[4]: Batch[36864/60000 (61.44%%)]  Loss: 0.0352753\n",
      "Train Epoch[4]: Batch[40960/60000 (68.27%%)]  Loss: 0.0457887\n",
      "Train Epoch[4]: Batch[45056/60000 (75.09%%)]  Loss: 0.0364658\n",
      "Train Epoch[4]: Batch[49152/60000 (81.92%%)]  Loss: 0.13747\n",
      "Train Epoch[4]: Batch[53248/60000 (88.75%%)]  Loss: 0.132285\n",
      "Train Epoch[4]: Batch[57344/60000 (95.57%%)]  Loss: 0.338633\n",
      "\n",
      "Test  Epoch 4: Average loss: 0.0612537, Accuracy:97.970000%\n",
      "\n"
     ]
    }
   ],
   "source": [
    "train_losses = []\n",
    "test_losses = []\n",
    "\n",
    "def train(epoch):\n",
    "    net.train()\n",
    "    for batch_idx, (data, target) in enumerate(train_loader):\n",
    "        optimizer.zero_grad()\n",
    "        outputs = net(data)  # 输出结果outputs(batch_size, class_num)\n",
    "        loss = criterion(outputs, target)  \n",
    "        loss.backward()\n",
    "        optimizer.step()\n",
    "\n",
    "        if batch_idx % batch_size == 0:  # print every batch_size(64) mini-batches\n",
    "            print('Train Epoch[{}]: Batch[{}/{} ({:.2%}%)]  Loss: {:.6}'.format(\n",
    "                epoch, batch_idx * batch_size,\n",
    "                len(train_loader.dataset), batch_size * batch_idx / len(train_loader.dataset),\n",
    "                loss.data[0]\n",
    "            ))\n",
    "            train_losses.append(loss.data[0])\n",
    "\n",
    "\n",
    "def test(epoch):\n",
    "    \"\"\"\n",
    "    整体思路是：feed forward, 计算出预测的结果，然后统计预测的结果中正确的所占比例即为精度，\n",
    "    在预测中不需要backward\n",
    "    :param epoch: \n",
    "    :return: \n",
    "    \"\"\"\n",
    "    net.eval()\n",
    "    correct = 0\n",
    "    test_loss = 0\n",
    "    for batch_idx, (data, target) in enumerate(test_loader):\n",
    "        outputs = net(data)\n",
    "        test_loss += criterion(outputs, target).data[0]\n",
    "        y_pred = outputs.data.max(1)[1]\n",
    "#         correct += y_pred.eq(target.data).sum()\n",
    "        correct += y_pred.eq(target.view_as(y_pred)).sum().item()\n",
    "        \n",
    "\n",
    "    avg_loss = test_loss / len(test_loader)  # loss function already averages over batch size\n",
    "    print('\\nTest  Epoch {}: Average loss: {:.6}, Accuracy:{:.6%}\\n'.format(\n",
    "        epoch, avg_loss, correct / len(test_loader.dataset)\n",
    "    ))\n",
    "\n",
    "\n",
    "for epoch in range(1, 5):\n",
    "    train(epoch)\n",
    "    test(epoch)"
   ]
  },
  {
   "cell_type": "code",
   "execution_count": 38,
   "metadata": {},
   "outputs": [
    {
     "data": {
      "text/plain": [
       "[<matplotlib.lines.Line2D at 0x11c120a20>]"
      ]
     },
     "execution_count": 38,
     "metadata": {},
     "output_type": "execute_result"
    },
    {
     "data": {
      "image/png": "[encoded data removed]",
      "text/plain": [
       "<matplotlib.figure.Figure at 0x1183592b0>"
      ]
     },
     "metadata": {},
     "output_type": "display_data"
    }
   ],
   "source": [
    "plt.plot(train_losses)"
   ]
  },
  {
   "cell_type": "code",
   "execution_count": null,
   "metadata": {},
   "outputs": [],
   "source": [
    "torch.view()"
   ]
  },
  {
   "cell_type": "code",
   "execution_count": 94,
   "metadata": {},
   "outputs": [
    {
     "data": {
      "text/plain": [
       "'torch.FloatTensor'"
      ]
     },
     "execution_count": 94,
     "metadata": {},
     "output_type": "execute_result"
    }
   ],
   "source": [
    "a = test_set.test_data[0,:,:]\n",
    "a = torch.unsqueeze(a,0)\n",
    "a = torch.unsqueeze(a,0)\n",
    "a = a.float()\n"
   ]
  },
  {
   "cell_type": "code",
   "execution_count": 95,
   "metadata": {},
   "outputs": [
    {
     "name": "stdout",
     "output_type": "stream",
     "text": [
      "torch.Size([1, 1, 28, 28])\n"
     ]
    },
    {
     "name": "stderr",
     "output_type": "stream",
     "text": [
      "/Users/sshuair/anaconda3/lib/python3.5/site-packages/ipykernel/__main__.py:37: UserWarning: Implicit dimension choice for log_softmax has been deprecated. Change the call to include dim=X as an argument.\n"
     ]
    },
    {
     "data": {
      "text/plain": [
       "tensor([[-4436.8516, -4436.8516, -2476.6855, -2268.2866, -4436.8516,\n",
       "         -4436.8516, -4436.8516,     0.0000, -3360.7656, -3150.9802]])"
      ]
     },
     "execution_count": 95,
     "metadata": {},
     "output_type": "execute_result"
    }
   ],
   "source": [
    "\n",
    "net(a)"
   ]
  },
  {
   "cell_type": "code",
   "execution_count": null,
   "metadata": {},
   "outputs": [],
   "source": []
  },
  {
   "cell_type": "code",
   "execution_count": null,
   "metadata": {},
   "outputs": [],
   "source": []
  },
  {
   "cell_type": "code",
   "execution_count": 23,
   "metadata": {},
   "outputs": [
    {
     "ename": "NameError",
     "evalue": "name 'y_pred' is not defined",
     "output_type": "error",
     "traceback": [
      "\u001b[0;31m---------------------------------------------------------------------------\u001b[0m",
      "\u001b[0;31mNameError\u001b[0m                                 Traceback (most recent call last)",
      "\u001b[0;32m<ipython-input-23-c86cf63ebe5b>\u001b[0m in \u001b[0;36m<module>\u001b[0;34m()\u001b[0m\n\u001b[0;32m----> 1\u001b[0;31m \u001b[0my_pred\u001b[0m\u001b[0;34m.\u001b[0m\u001b[0meq\u001b[0m\u001b[0;34m(\u001b[0m\u001b[0mtarget\u001b[0m\u001b[0;34m.\u001b[0m\u001b[0mdata\u001b[0m\u001b[0;34m)\u001b[0m\u001b[0;34m.\u001b[0m\u001b[0mcpu\u001b[0m\u001b[0;34m(\u001b[0m\u001b[0;34m)\u001b[0m\u001b[0;34m.\u001b[0m\u001b[0msum\u001b[0m\u001b[0;34m(\u001b[0m\u001b[0;34m)\u001b[0m\u001b[0;34m\u001b[0m\u001b[0m\n\u001b[0m",
      "\u001b[0;31mNameError\u001b[0m: name 'y_pred' is not defined"
     ]
    }
   ],
   "source": [
    "y_pred.eq(target.data).cpu().sum()"
   ]
  },
  {
   "cell_type": "code",
   "execution_count": null,
   "metadata": {},
   "outputs": [],
   "source": [
    "for epoch in range(2):\n",
    "    running_loss = 0.0\n",
    "    for i, (inputs, labels) in enumerate(train_loader):\n",
    "        optimizer.zero_grad()\n",
    "        outputs = net(inputs)\n",
    "        loss = criterion(outputs, labels)\n",
    "        loss.backward()\n",
    "        optimizer.step()\n",
    "\n",
    "        # print statistics\n",
    "        running_loss += loss.data[0]\n",
    "        if i % 10 == 0:\n",
    "            print('[epoch{epoch}, {batch}] loss: {loss}'\n",
    "                  .format(epoch=epoch + 1, batch=i + 1, loss=running_loss / 2000))\n",
    "            running_loss = 0.0\n",
    "print('done')\n",
    "\n",
    "\n"
   ]
  },
  {
   "cell_type": "code",
   "execution_count": null,
   "metadata": {},
   "outputs": [],
   "source": []
  },
  {
   "cell_type": "markdown",
   "metadata": {},
   "source": [
    "You just have to define the ``forward`` function, and the ``backward``\n",
    "function (where gradients are computed) is automatically defined for you\n",
    "using ``autograd``.\n",
    "You can use any of the Tensor operations in the ``forward`` function.\n",
    "\n",
    "The learnable parameters of a model are returned by ``net.parameters()``\n",
    "\n"
   ]
  },
  {
   "cell_type": "code",
   "execution_count": 4,
   "metadata": {
    "collapsed": false
   },
   "outputs": [
    {
     "name": "stdout",
     "output_type": "stream",
     "text": [
      "10\n",
      "torch.Size([6, 1, 5, 5])\n"
     ]
    }
   ],
   "source": [
    "params = list(net.parameters())\n",
    "print(len(params))\n",
    "print(params[0].size())  # conv1's .weight"
   ]
  },
  {
   "cell_type": "markdown",
   "metadata": {},
   "source": [
    "Let try a random 32x32 input\n",
    "Note: Expected input size to this net(LeNet) is 32x32. To use this net on\n",
    "MNIST dataset, please resize the images from the dataset to 32x32.\n",
    "\n"
   ]
  },
  {
   "cell_type": "code",
   "execution_count": 5,
   "metadata": {
    "collapsed": false
   },
   "outputs": [
    {
     "name": "stdout",
     "output_type": "stream",
     "text": [
      "tensor(1.00000e-02 *\n",
      "       [[ 5.3677,  1.8602, -0.8477, -1.8422,  5.4403,  8.7360,  5.9282,\n",
      "         -0.2987, -3.9163,  7.7429]])\n"
     ]
    }
   ],
   "source": [
    "input = torch.randn(1, 1, 32, 32)\n",
    "out = net(input)\n",
    "print(out)"
   ]
  },
  {
   "cell_type": "markdown",
   "metadata": {},
   "source": [
    "Zero the gradient buffers of all parameters and backprops with random\n",
    "gradients:\n",
    "\n"
   ]
  },
  {
   "cell_type": "code",
   "execution_count": 6,
   "metadata": {
    "collapsed": false
   },
   "outputs": [],
   "source": [
    "net.zero_grad()\n",
    "out.backward(torch.randn(1, 10))"
   ]
  },
  {
   "cell_type": "markdown",
   "metadata": {},
   "source": [
    "<div class=\"alert alert-info\"><h4>Note</h4><p>``torch.nn`` only supports mini-batches. The entire ``torch.nn``\n",
    "    package only supports inputs that are a mini-batch of samples, and not\n",
    "    a single sample.\n",
    "\n",
    "    For example, ``nn.Conv2d`` will take in a 4D Tensor of\n",
    "    ``nSamples x nChannels x Height x Width``.\n",
    "\n",
    "    If you have a single sample, just use ``input.unsqueeze(0)`` to add\n",
    "    a fake batch dimension.</p></div>\n",
    "\n",
    "Before proceeding further, let's recap all the classes you’ve seen so far.\n",
    "\n",
    "**Recap:**\n",
    "  -  ``torch.Tensor`` - A *multi-dimensional array* with support for autograd\n",
    "     operations like ``backward()``. Also *holds the gradient* w.r.t. the\n",
    "     tensor.\n",
    "  -  ``nn.Module`` - Neural network module. *Convenient way of\n",
    "     encapsulating parameters*, with helpers for moving them to GPU,\n",
    "     exporting, loading, etc.\n",
    "  -  ``nn.Parameter`` - A kind of Tensor, that is *automatically\n",
    "     registered as a parameter when assigned as an attribute to a*\n",
    "     ``Module``.\n",
    "  -  ``autograd.Function`` - Implements *forward and backward definitions\n",
    "     of an autograd operation*. Every ``Tensor`` operation, creates at\n",
    "     least a single ``Function`` node, that connects to functions that\n",
    "     created a ``Tensor`` and *encodes its history*.\n",
    "\n",
    "**At this point, we covered:**\n",
    "  -  Defining a neural network\n",
    "  -  Processing inputs and calling backward\n",
    "\n",
    "**Still Left:**\n",
    "  -  Computing the loss\n",
    "  -  Updating the weights of the network\n",
    "\n",
    "Loss Function\n",
    "-------------\n",
    "A loss function takes the (output, target) pair of inputs, and computes a\n",
    "value that estimates how far away the output is from the target.\n",
    "\n",
    "There are several different\n",
    "`loss functions <http://pytorch.org/docs/nn.html#loss-functions>`_ under the\n",
    "nn package .\n",
    "A simple loss is: ``nn.MSELoss`` which computes the mean-squared error\n",
    "between the input and the target.\n",
    "\n",
    "For example:\n",
    "\n"
   ]
  },
  {
   "cell_type": "code",
   "execution_count": 7,
   "metadata": {
    "collapsed": false
   },
   "outputs": [
    {
     "name": "stdout",
     "output_type": "stream",
     "text": [
      "tensor(38.1824)\n"
     ]
    }
   ],
   "source": [
    "output = net(input)\n",
    "target = torch.arange(1, 11)  # a dummy target, for example\n",
    "target = target.view(1, -1)  # make it the same shape as output\n",
    "criterion = nn.MSELoss()\n",
    "\n",
    "loss = criterion(output, target)\n",
    "print(loss)"
   ]
  },
  {
   "cell_type": "markdown",
   "metadata": {},
   "source": [
    "Now, if you follow ``loss`` in the backward direction, using its\n",
    "``.grad_fn`` attribute, you will see a graph of computations that looks\n",
    "like this:\n",
    "\n",
    "::\n",
    "\n",
    "    input -> conv2d -> relu -> maxpool2d -> conv2d -> relu -> maxpool2d\n",
    "          -> view -> linear -> relu -> linear -> relu -> linear\n",
    "          -> MSELoss\n",
    "          -> loss\n",
    "\n",
    "So, when we call ``loss.backward()``, the whole graph is differentiated\n",
    "w.r.t. the loss, and all Tensors in the graph that has ``requres_grad=True``\n",
    "will have their ``.grad`` Tensor accumulated with the gradient.\n",
    "\n",
    "For illustration, let us follow a few steps backward:\n",
    "\n"
   ]
  },
  {
   "cell_type": "code",
   "execution_count": 8,
   "metadata": {
    "collapsed": false
   },
   "outputs": [
    {
     "name": "stdout",
     "output_type": "stream",
     "text": [
      "<MseLossBackward object at 0x112238c88>\n",
      "<AddmmBackward object at 0x112238cc0>\n",
      "<ExpandBackward object at 0x10f9e6908>\n"
     ]
    }
   ],
   "source": [
    "print(loss.grad_fn)  # MSELoss\n",
    "print(loss.grad_fn.next_functions[0][0])  # Linear\n",
    "print(loss.grad_fn.next_functions[0][0].next_functions[0][0])  # ReLU"
   ]
  },
  {
   "cell_type": "markdown",
   "metadata": {},
   "source": [
    "Backprop\n",
    "--------\n",
    "To backpropagate the error all we have to do is to ``loss.backward()``.\n",
    "You need to clear the existing gradients though, else gradients will be\n",
    "accumulated to existing gradients.\n",
    "\n",
    "\n",
    "Now we shall call ``loss.backward()``, and have a look at conv1's bias\n",
    "gradients before and after the backward.\n",
    "\n"
   ]
  },
  {
   "cell_type": "code",
   "execution_count": 9,
   "metadata": {
    "collapsed": false
   },
   "outputs": [
    {
     "name": "stdout",
     "output_type": "stream",
     "text": [
      "conv1.bias.grad before backward\n",
      "tensor([ 0.,  0.,  0.,  0.,  0.,  0.])\n",
      "conv1.bias.grad after backward\n",
      "tensor([-0.0296, -0.1084, -0.0346, -0.0628, -0.0655,  0.0212])\n"
     ]
    }
   ],
   "source": [
    "net.zero_grad()     # zeroes the gradient buffers of all parameters\n",
    "\n",
    "print('conv1.bias.grad before backward')\n",
    "print(net.conv1.bias.grad)\n",
    "\n",
    "loss.backward()\n",
    "\n",
    "print('conv1.bias.grad after backward')\n",
    "print(net.conv1.bias.grad)"
   ]
  },
  {
   "cell_type": "markdown",
   "metadata": {},
   "source": [
    "Now, we have seen how to use loss functions.\n",
    "\n",
    "**Read Later:**\n",
    "\n",
    "  The neural network package contains various modules and loss functions\n",
    "  that form the building blocks of deep neural networks. A full list with\n",
    "  documentation is `here <http://pytorch.org/docs/nn>`_.\n",
    "\n",
    "**The only thing left to learn is:**\n",
    "\n",
    "  - Updating the weights of the network\n",
    "\n",
    "Update the weights\n",
    "------------------\n",
    "The simplest update rule used in practice is the Stochastic Gradient\n",
    "Descent (SGD):\n",
    "\n",
    "     ``weight = weight - learning_rate * gradient``\n",
    "\n",
    "We can implement this using simple python code:\n",
    "\n",
    ".. code:: python\n",
    "\n",
    "    learning_rate = 0.01\n",
    "    for f in net.parameters():\n",
    "        f.data.sub_(f.grad.data * learning_rate)\n",
    "\n",
    "However, as you use neural networks, you want to use various different\n",
    "update rules such as SGD, Nesterov-SGD, Adam, RMSProp, etc.\n",
    "To enable this, we built a small package: ``torch.optim`` that\n",
    "implements all these methods. Using it is very simple:\n",
    "\n"
   ]
  },
  {
   "cell_type": "code",
   "execution_count": 10,
   "metadata": {
    "collapsed": false
   },
   "outputs": [],
   "source": [
    "import torch.optim as optim\n",
    "\n",
    "# create your optimizer\n",
    "optimizer = optim.SGD(net.parameters(), lr=0.01)\n",
    "\n",
    "# in your training loop:\n",
    "optimizer.zero_grad()   # zero the gradient buffers\n",
    "output = net(input)\n",
    "loss = criterion(output, target)\n",
    "loss.backward()\n",
    "optimizer.step()    # Does the update"
   ]
  },
  {
   "cell_type": "markdown",
   "metadata": {},
   "source": [
    ".. Note::\n",
    "\n",
    "      Observe how gradient buffers had to be manually set to zero using\n",
    "      ``optimizer.zero_grad()``. This is because gradients are accumulated\n",
    "      as explained in `Backprop`_ section.\n",
    "\n"
   ]
  },
  {
   "cell_type": "code",
   "execution_count": null,
   "metadata": {},
   "outputs": [],
   "source": []
  }
 ],
 "metadata": {
  "kernelspec": {
   "display_name": "Python [default]",
   "language": "python",
   "name": "python3"
  },
  "language_info": {
   "codemirror_mode": {
    "name": "ipython",
    "version": 3
   },
   "file_extension": ".py",
   "mimetype": "text/x-python",
   "name": "python",
   "nbconvert_exporter": "python",
   "pygments_lexer": "ipython3",
   "version": "3.5.2"
  }
 },
 "nbformat": 4,
 "nbformat_minor": 2
}
