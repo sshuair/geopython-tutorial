{
 "cells": [
  {
   "cell_type": "code",
   "execution_count": 1,
   "metadata": {
    "collapsed": false
   },
   "outputs": [],
   "source": [
    "%matplotlib inline"
   ]
  },
  {
   "cell_type": "markdown",
   "metadata": {},
   "source": [
    "dataset mnist"
   ]
  },
  {
   "cell_type": "code",
   "execution_count": 2,
   "metadata": {},
   "outputs": [
    {
     "name": "stdout",
     "output_type": "stream",
     "text": [
      "0.4.0\n"
     ]
    }
   ],
   "source": [
    "from functools import reduce\n",
    "import numpy as np\n",
    "import torch\n",
    "import torch.nn as nn\n",
    "import torch.nn.functional as F\n",
    "import torch.utils.data.dataloader as dataloader\n",
    "import torch.optim as optim\n",
    "\n",
    "from torch.utils.data import TensorDataset\n",
    "from torch.autograd import Variable\n",
    "from torchvision import transforms\n",
    "from torchvision.datasets import MNIST\n",
    "\n",
    "from PIL import Image\n",
    "import matplotlib.pyplot as plt\n",
    "\n",
    "print(torch.__version__)"
   ]
  },
  {
   "cell_type": "code",
   "execution_count": 3,
   "metadata": {},
   "outputs": [],
   "source": [
    "SEED = 1\n",
    "\n",
    "# CUDA?\n",
    "cuda = torch.cuda.is_available()\n",
    "\n",
    "# For reproducibility\n",
    "torch.manual_seed(SEED)\n",
    "\n",
    "if cuda:\n",
    "    torch.cuda.manual_seed(SEED)"
   ]
  },
  {
   "cell_type": "code",
   "execution_count": 5,
   "metadata": {},
   "outputs": [],
   "source": [
    "batch_size = 64\n",
    "train_set = MNIST('./data', train=True, download=True, transform=transforms.Compose([\n",
    "    transforms.ToTensor(), # ToTensor does min-max normalization. \n",
    "]), )\n",
    "\n",
    "test_set = MNIST('./data', train=False, download=True, transform=transforms.Compose([\n",
    "    transforms.ToTensor(), # ToTensor does min-max normalization. \n",
    "]), )\n",
    "\n",
    "# Create DataLoader\n",
    "dataloader_args = dict(shuffle=True, batch_size=batch_size, num_workers=4, pin_memory=True) if cuda else dict(shuffle=True, batch_size=batch_size)\n",
    "train_loader = dataloader.DataLoader(train_set, **dataloader_args)\n",
    "test_loader = dataloader.DataLoader(test_set, **dataloader_args)"
   ]
  },
  {
   "cell_type": "code",
   "execution_count": 6,
   "metadata": {},
   "outputs": [],
   "source": [
    "def imshow_multi(images):\n",
    "    f = plt.figure()\n",
    "    for n, im in enumerate(images):\n",
    "        im = np.clip(im, 0, 1)\n",
    "        f.add_subplot(1, len(images), n+1)  # this line outputs images on top of each other\n",
    "        # f.add_subplot(1, 2, n)  # this line outputs images side-by-side\n",
    "        fig = plt.imshow(im, cmap='gray', vmin=0, vmax=1)\n",
    "        fig.axes.get_xaxis().set_visible(False) # this is the worst api in the world\n",
    "        fig.axes.get_yaxis().set_visible(False)\n",
    "    plt.show()"
   ]
  },
  {
   "cell_type": "code",
   "execution_count": 7,
   "metadata": {},
   "outputs": [
    {
     "data": {
      "image/png": "[encoded data removed]",
      "text/plain": [
       "<PIL.Image.Image image mode=L size=28x28 at 0x1128AF5F8>"
      ]
     },
     "execution_count": 7,
     "metadata": {},
     "output_type": "execute_result"
    }
   ],
   "source": [
    "img = train_set.train_data[4,:,:].numpy()\n",
    "Image.fromarray(img)"
   ]
  },
  {
   "cell_type": "code",
   "execution_count": 8,
   "metadata": {},
   "outputs": [
    {
     "data": {
      "image/png": "[encoded data removed]",
      "text/plain": [
       "<matplotlib.figure.Figure at 0x119e7e4a8>"
      ]
     },
     "metadata": {},
     "output_type": "display_data"
    },
    {
     "name": "stdout",
     "output_type": "stream",
     "text": [
      "tensor([ 5,  0,  4,  1,  9,  2,  1,  3,  1])\n"
     ]
    }
   ],
   "source": [
    "imshow_multi(train_set.train_data[0:9,:,:].numpy())\n",
    "print(train_set.train_labels[0:9])"
   ]
  },
  {
   "cell_type": "markdown",
   "metadata": {},
   "source": [
    "## 定义神经网络\n"
   ]
  },
  {
   "cell_type": "code",
   "execution_count": 9,
   "metadata": {
    "collapsed": false
   },
   "outputs": [],
   "source": [
    "class Net(nn.Module):\n",
    "    def __init__(self):\n",
    "        super(Net, self).__init__()\n",
    "        self.conv1 = nn.Conv2d(1, 6, kernel_size=5)\n",
    "        self.pool1 = nn.MaxPool2d(2)\n",
    "        self.conv2 = nn.Conv2d(6, 16, kernel_size=5)\n",
    "        self.pool2 = nn.MaxPool2d(2)\n",
    "        self.drop = nn.Dropout2d()\n",
    "        self.fc1 = nn.Linear(16*4*4, 100) #TODO: 寻找自动匹配方法\n",
    "        self.fc2 = nn.Linear(100, 50)\n",
    "        self.fc3 = nn.Linear(50, 10)\n",
    "\n",
    "    def forward(self, x):\n",
    "        \"\"\"\n",
    "        \n",
    "        :param x: 一个batch的数据，输入结构：[batch_size, image_channel, image_width, image_height]\n",
    "        :return: 前向传播结果\n",
    "        \"\"\"\n",
    "        # 第一阶段特征提取（卷积、relu、池化）\n",
    "        x = self.pool1(F.relu(self.conv1(x)))\n",
    "\n",
    "        # 第二阶段特征提取（卷积、relu、池化）\n",
    "        x = self.pool2(F.relu(self.conv2(x)))\n",
    "\n",
    "        # dropout\n",
    "        x = self.drop(x)\n",
    "\n",
    "        # flat features 多维维空间一维化，输出也就是[batch_size, image_channel * image_width * image_height]\n",
    "        x = x.view(-1, self.num_flat_features(x))\n",
    "        # x = x.view(batch_size, -1)  不能用这种方法，因为最后一个epoch可能不是正好整除batch_size\n",
    "\n",
    "        # 全连接层（fc1，fc2，fc3）\n",
    "        x = F.relu(self.fc1(x))\n",
    "        x = F.relu(self.fc2(x))\n",
    "        x = F.relu(self.fc3(x))\n",
    "\n",
    "        return F.log_softmax(x)\n",
    "\n",
    "    def num_flat_features(self, x):\n",
    "        feature_size = x.size()[1:]\n",
    "        num_flat = reduce(lambda m, n: m*n, feature_size, 1)\n",
    "        return num_flat\n",
    "    \n",
    "net = Net()"
   ]
  },
  {
   "cell_type": "markdown",
   "metadata": {},
   "source": [
    "## 定义损失函数"
   ]
  },
  {
   "cell_type": "code",
   "execution_count": 10,
   "metadata": {},
   "outputs": [],
   "source": [
    "criterion = nn.CrossEntropyLoss()\n",
    "optimizer = optim.SGD(params=net.parameters(), lr=0.01, momentum=0.9)"
   ]
  },
  {
   "cell_type": "code",
   "execution_count": 11,
   "metadata": {},
   "outputs": [
    {
     "name": "stderr",
     "output_type": "stream",
     "text": [
      "/Users/sshuair/anaconda3/lib/python3.5/site-packages/ipykernel/__main__.py:37: UserWarning: Implicit dimension choice for log_softmax has been deprecated. Change the call to include dim=X as an argument.\n",
      "/Users/sshuair/anaconda3/lib/python3.5/site-packages/ipykernel/__main__.py:17: UserWarning: invalid index of a 0-dim tensor. This will be an error in PyTorch 0.5. Use tensor.item() to convert a 0-dim tensor to a Python number\n",
      "/Users/sshuair/anaconda3/lib/python3.5/site-packages/ipykernel/__main__.py:19: UserWarning: invalid index of a 0-dim tensor. This will be an error in PyTorch 0.5. Use tensor.item() to convert a 0-dim tensor to a Python number\n"
     ]
    },
    {
     "name": "stdout",
     "output_type": "stream",
     "text": [
      "Train Epoch[1]: Batch[0/60000 (0.00%%)]  Loss: 2.30417\n",
      "Train Epoch[1]: Batch[4096/60000 (6.83%%)]  Loss: 2.29348\n",
      "Train Epoch[1]: Batch[8192/60000 (13.65%%)]  Loss: 2.21694\n",
      "Train Epoch[1]: Batch[12288/60000 (20.48%%)]  Loss: 1.58005\n",
      "Train Epoch[1]: Batch[16384/60000 (27.31%%)]  Loss: 0.801477\n",
      "Train Epoch[1]: Batch[20480/60000 (34.13%%)]  Loss: 0.899961\n",
      "Train Epoch[1]: Batch[24576/60000 (40.96%%)]  Loss: 0.400018\n",
      "Train Epoch[1]: Batch[28672/60000 (47.79%%)]  Loss: 0.558926\n",
      "Train Epoch[1]: Batch[32768/60000 (54.61%%)]  Loss: 0.395587\n",
      "Train Epoch[1]: Batch[36864/60000 (61.44%%)]  Loss: 0.287952\n",
      "Train Epoch[1]: Batch[40960/60000 (68.27%%)]  Loss: 0.433122\n",
      "Train Epoch[1]: Batch[45056/60000 (75.09%%)]  Loss: 0.180949\n",
      "Train Epoch[1]: Batch[49152/60000 (81.92%%)]  Loss: 0.226135\n",
      "Train Epoch[1]: Batch[53248/60000 (88.75%%)]  Loss: 0.334105\n",
      "Train Epoch[1]: Batch[57344/60000 (95.57%%)]  Loss: 0.240022\n"
     ]
    },
    {
     "name": "stderr",
     "output_type": "stream",
     "text": [
      "/Users/sshuair/anaconda3/lib/python3.5/site-packages/ipykernel/__main__.py:34: UserWarning: invalid index of a 0-dim tensor. This will be an error in PyTorch 0.5. Use tensor.item() to convert a 0-dim tensor to a Python number\n"
     ]
    },
    {
     "name": "stdout",
     "output_type": "stream",
     "text": [
      "\n",
      "Test  Epoch 1: Average loss: 0.141171, Accuracy:95.360000%\n",
      "\n",
      "Train Epoch[2]: Batch[0/60000 (0.00%%)]  Loss: 0.335009\n",
      "Train Epoch[2]: Batch[4096/60000 (6.83%%)]  Loss: 0.271497\n",
      "Train Epoch[2]: Batch[8192/60000 (13.65%%)]  Loss: 0.144494\n",
      "Train Epoch[2]: Batch[12288/60000 (20.48%%)]  Loss: 0.218008\n",
      "Train Epoch[2]: Batch[16384/60000 (27.31%%)]  Loss: 0.296075\n",
      "Train Epoch[2]: Batch[20480/60000 (34.13%%)]  Loss: 0.145668\n",
      "Train Epoch[2]: Batch[24576/60000 (40.96%%)]  Loss: 0.183861\n",
      "Train Epoch[2]: Batch[28672/60000 (47.79%%)]  Loss: 0.110398\n",
      "Train Epoch[2]: Batch[32768/60000 (54.61%%)]  Loss: 0.180479\n",
      "Train Epoch[2]: Batch[36864/60000 (61.44%%)]  Loss: 0.0688071\n",
      "Train Epoch[2]: Batch[40960/60000 (68.27%%)]  Loss: 0.1335\n",
      "Train Epoch[2]: Batch[45056/60000 (75.09%%)]  Loss: 0.087973\n",
      "Train Epoch[2]: Batch[49152/60000 (81.92%%)]  Loss: 0.292139\n",
      "Train Epoch[2]: Batch[53248/60000 (88.75%%)]  Loss: 0.128316\n",
      "Train Epoch[2]: Batch[57344/60000 (95.57%%)]  Loss: 0.0697112\n",
      "\n",
      "Test  Epoch 2: Average loss: 0.0833962, Accuracy:97.360000%\n",
      "\n",
      "Train Epoch[3]: Batch[0/60000 (0.00%%)]  Loss: 0.102078\n",
      "Train Epoch[3]: Batch[4096/60000 (6.83%%)]  Loss: 0.215417\n",
      "Train Epoch[3]: Batch[8192/60000 (13.65%%)]  Loss: 0.224066\n",
      "Train Epoch[3]: Batch[12288/60000 (20.48%%)]  Loss: 0.21934\n",
      "Train Epoch[3]: Batch[16384/60000 (27.31%%)]  Loss: 0.158291\n",
      "Train Epoch[3]: Batch[20480/60000 (34.13%%)]  Loss: 0.0724984\n",
      "Train Epoch[3]: Batch[24576/60000 (40.96%%)]  Loss: 0.20802\n",
      "Train Epoch[3]: Batch[28672/60000 (47.79%%)]  Loss: 0.0535592\n",
      "Train Epoch[3]: Batch[32768/60000 (54.61%%)]  Loss: 0.191574\n",
      "Train Epoch[3]: Batch[36864/60000 (61.44%%)]  Loss: 0.0603376\n",
      "Train Epoch[3]: Batch[40960/60000 (68.27%%)]  Loss: 0.32022\n",
      "Train Epoch[3]: Batch[45056/60000 (75.09%%)]  Loss: 0.14304\n",
      "Train Epoch[3]: Batch[49152/60000 (81.92%%)]  Loss: 0.103147\n",
      "Train Epoch[3]: Batch[53248/60000 (88.75%%)]  Loss: 0.09031\n",
      "Train Epoch[3]: Batch[57344/60000 (95.57%%)]  Loss: 0.0947811\n",
      "\n",
      "Test  Epoch 3: Average loss: 0.0587052, Accuracy:97.940000%\n",
      "\n",
      "Train Epoch[4]: Batch[0/60000 (0.00%%)]  Loss: 0.119739\n",
      "Train Epoch[4]: Batch[4096/60000 (6.83%%)]  Loss: 0.0359769\n",
      "Train Epoch[4]: Batch[8192/60000 (13.65%%)]  Loss: 0.106172\n",
      "Train Epoch[4]: Batch[12288/60000 (20.48%%)]  Loss: 0.245394\n",
      "Train Epoch[4]: Batch[16384/60000 (27.31%%)]  Loss: 0.213166\n",
      "Train Epoch[4]: Batch[20480/60000 (34.13%%)]  Loss: 0.0377064\n",
      "Train Epoch[4]: Batch[24576/60000 (40.96%%)]  Loss: 0.154212\n",
      "Train Epoch[4]: Batch[28672/60000 (47.79%%)]  Loss: 0.0943965\n",
      "Train Epoch[4]: Batch[32768/60000 (54.61%%)]  Loss: 0.0413344\n",
      "Train Epoch[4]: Batch[36864/60000 (61.44%%)]  Loss: 0.21009\n",
      "Train Epoch[4]: Batch[40960/60000 (68.27%%)]  Loss: 0.0543128\n",
      "Train Epoch[4]: Batch[45056/60000 (75.09%%)]  Loss: 0.0890136\n",
      "Train Epoch[4]: Batch[49152/60000 (81.92%%)]  Loss: 0.0963057\n",
      "Train Epoch[4]: Batch[53248/60000 (88.75%%)]  Loss: 0.0555374\n",
      "Train Epoch[4]: Batch[57344/60000 (95.57%%)]  Loss: 0.153261\n",
      "\n",
      "Test  Epoch 4: Average loss: 0.0510012, Accuracy:98.420000%\n",
      "\n"
     ]
    }
   ],
   "source": [
    "train_losses = []\n",
    "test_losses = []\n",
    "\n",
    "def train(epoch):\n",
    "    net.train()\n",
    "    for batch_idx, (data, target) in enumerate(train_loader):\n",
    "        optimizer.zero_grad()\n",
    "        outputs = net(data)  # 输出结果outputs(batch_size, class_num)\n",
    "        loss = criterion(outputs, target)  \n",
    "        loss.backward()\n",
    "        optimizer.step()\n",
    "\n",
    "        if batch_idx % batch_size == 0:  # print every batch_size(64) mini-batches\n",
    "            print('Train Epoch[{}]: Batch[{}/{} ({:.2%}%)]  Loss: {:.6}'.format(\n",
    "                epoch, batch_idx * batch_size,\n",
    "                len(train_loader.dataset), batch_size * batch_idx / len(train_loader.dataset),\n",
    "                loss.data[0]\n",
    "            ))\n",
    "            train_losses.append(loss.data[0])\n",
    "\n",
    "\n",
    "def test(epoch):\n",
    "    \"\"\"\n",
    "    整体思路是：feed forward, 计算出预测的结果，然后统计预测的结果中正确的所占比例即为精度，\n",
    "    在预测中不需要backward\n",
    "    :param epoch: \n",
    "    :return: \n",
    "    \"\"\"\n",
    "    net.eval()\n",
    "    correct = 0\n",
    "    test_loss = 0\n",
    "    for batch_idx, (data, target) in enumerate(test_loader):\n",
    "        outputs = net(data)\n",
    "        test_loss += criterion(outputs, target).data[0]\n",
    "        y_pred = outputs.data.max(1)[1]\n",
    "#         correct += y_pred.eq(target.data).sum()\n",
    "        correct += y_pred.eq(target.view_as(y_pred)).sum().item()\n",
    "        \n",
    "\n",
    "    avg_loss = test_loss / len(test_loader)  # loss function already averages over batch size\n",
    "    print('\\nTest  Epoch {}: Average loss: {:.6}, Accuracy:{:.6%}\\n'.format(\n",
    "        epoch, avg_loss, correct / len(test_loader.dataset)\n",
    "    ))\n",
    "\n",
    "\n",
    "for epoch in range(1, 5):\n",
    "    train(epoch)\n",
    "    test(epoch)"
   ]
  },
  {
   "cell_type": "code",
   "execution_count": 12,
   "metadata": {},
   "outputs": [
    {
     "data": {
      "text/plain": [
       "[<matplotlib.lines.Line2D at 0x11a3e9a90>]"
      ]
     },
     "execution_count": 12,
     "metadata": {},
     "output_type": "execute_result"
    },
    {
     "data": {
      "image/png": "[encoded data removed]",
      "text/plain": [
       "<matplotlib.figure.Figure at 0x119fd5ac8>"
      ]
     },
     "metadata": {},
     "output_type": "display_data"
    }
   ],
   "source": [
    "plt.plot(train_losses)"
   ]
  },
  {
   "cell_type": "markdown",
   "metadata": {},
   "source": [
    "## 验证"
   ]
  },
  {
   "cell_type": "code",
   "execution_count": 14,
   "metadata": {},
   "outputs": [],
   "source": [
    "a = test_set.test_data[0,:,:]\n",
    "a = torch.unsqueeze(a,0)\n",
    "a = torch.unsqueeze(a,0)\n",
    "a = a.float()\n"
   ]
  },
  {
   "cell_type": "code",
   "execution_count": 16,
   "metadata": {},
   "outputs": [
    {
     "name": "stderr",
     "output_type": "stream",
     "text": [
      "/Users/sshuair/anaconda3/lib/python3.5/site-packages/ipykernel/__main__.py:37: UserWarning: Implicit dimension choice for log_softmax has been deprecated. Change the call to include dim=X as an argument.\n"
     ]
    },
    {
     "data": {
      "text/plain": [
       "tensor([ 7])"
      ]
     },
     "execution_count": 16,
     "metadata": {},
     "output_type": "execute_result"
    }
   ],
   "source": [
    "output = net(a)\n",
    "y_pred = output.data.max(1)[1]\n",
    "y_pred"
   ]
  },
  {
   "cell_type": "code",
   "execution_count": 18,
   "metadata": {},
   "outputs": [
    {
     "data": {
      "text/plain": [
       "tensor(7)"
      ]
     },
     "execution_count": 18,
     "metadata": {},
     "output_type": "execute_result"
    }
   ],
   "source": [
    "# 真值\n",
    "test_set.test_labels[0]"
   ]
  },
  {
   "cell_type": "code",
   "execution_count": 21,
   "metadata": {},
   "outputs": [
    {
     "data": {
      "image/png": "[encoded data removed]",
      "text/plain": [
       "<PIL.Image.Image image mode=L size=28x28 at 0x119F8FF60>"
      ]
     },
     "execution_count": 21,
     "metadata": {},
     "output_type": "execute_result"
    }
   ],
   "source": [
    "Image.fromarray(test_set.test_data[0,:,:].numpy())"
   ]
  },
  {
   "cell_type": "code",
   "execution_count": null,
   "metadata": {},
   "outputs": [],
   "source": []
  }
 ],
 "metadata": {
  "kernelspec": {
   "display_name": "Python [default]",
   "language": "python",
   "name": "python3"
  },
  "language_info": {
   "codemirror_mode": {
    "name": "ipython",
    "version": 3
   },
   "file_extension": ".py",
   "mimetype": "text/x-python",
   "name": "python",
   "nbconvert_exporter": "python",
   "pygments_lexer": "ipython3",
   "version": "3.5.2"
  }
 },
 "nbformat": 4,
 "nbformat_minor": 2
}
